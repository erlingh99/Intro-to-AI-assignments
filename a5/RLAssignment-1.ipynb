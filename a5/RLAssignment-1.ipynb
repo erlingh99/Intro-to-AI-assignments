{
 "cells": [
  {
   "cell_type": "markdown",
   "metadata": {},
   "source": [
    "$\\qquad$ $\\qquad$ $\\qquad$                                 **DAT405 Introduction to Data Science and AI, 2019-2020, Reading Period 3** <br />\n",
    "$\\qquad$ $\\qquad$ $\\qquad$                                 **Assignment 5: Reinforcement learning and Classification 2** <br />\n",
    "$\\qquad$ $\\qquad$ $\\qquad$                                 **Grader: Newton** <br />\n",
    "$\\qquad$ $\\qquad$ $\\qquad$                                 **Due Date: 23rd February, 23:59** <br />\n",
    "$\\qquad$ $\\qquad$ $\\qquad$                                 **Submitted by: Erling Hjermstad, 19990118-T454, erlingh@student.chalmers.se** <br />\n",
    "$\\qquad$ $\\qquad$ $\\qquad$ $\\qquad$ $\\qquad$ $\\quad$       **Fredrik Lilliecreutz, 19970407-1795, fredriklilliecreutz@gmail.com** <br />\n",
    "$\\qquad$ $\\qquad$ $\\qquad$                                 **Hours spent: 10h each** <br />\n",
    "\n",
    "---\n",
    "\n",
    "\n",
    "General guidelines:\n",
    "*   All solutions to theoretical and pratical problems must be submitted in this ipynb notebook, and equations wherever required, should be formatted using LaTeX math-mode.\n",
    "*   All discussion regarding practical problems, along with solutions and plots should be specified in this notebook. All plots/results should be visible such that the notebook do not have to be run. But the code in the notebook should reproduce the plots/results if we choose to do so.\n",
    "*   Your name, personal number and email address should be specified above.\n",
    "*   All tables and other additional information should be included in this notebook.\n",
    "*   Before submitting, make sure that your code can run on another computer. That all plots can show on another computer including all your writing. It is good to check if your code can run here: https://colab.research.google.com.\n"
   ]
  },
  {
   "cell_type": "markdown",
   "metadata": {},
   "source": [
    "Self-check \n",
    "1. Have you answered all questions to the best of your ability? \n",
    "2. Anything else you can easily check? (details, terminology, arguments, commenting for code etc.?) \n",
    "\n",
    "Grading will be based on a qualitative assessment of each assignment. It is important to:\n",
    "*\tPresent clear arguments\n",
    "*\tPresent the results in a pedagogical way\n",
    "*\tShow understanding of the topics (e.g, write a pseudocode) \n",
    "*\tGive correct solutions\n",
    "*\tMake sure that the code is well commented \n",
    "\n",
    "**Again, as mentioned in general guidelines, all code should be written here. And this same ipython notebook file (RLAssignment.ipynb) should be submitted with answers and code written in it. NO SEPERATE FILE SHALL BE ACCEPTED.** \n"
   ]
  },
  {
   "cell_type": "markdown",
   "metadata": {},
   "source": [
    "# Primer\n",
    "\n",
    "## Decision Making\n",
    "The problem of **decision making under uncertainty** (commonly known as **reinforcement learning**) can be broken down into\n",
    "two parts. First, how do we learn about the world? This involves both the\n",
    "problem of modeling our initial uncertainty about the world, and that of drawing conclusions from evidence and our initial belief. Secondly, given what we\n",
    "currently know about the world, how should we decide what to do, taking into\n",
    "account future events and observations that may change our conclusions?\n",
    "Typically, this will involve creating long-term plans covering possible future\n",
    "eventualities. That is, when planning under uncertainty, we also need to take\n",
    "into account what possible future knowledge could be generated when implementing our plans. Intuitively, executing plans which involve trying out new\n",
    "things should give more information, but it is hard to tell whether this information will be beneficial. The choice between doing something which is already\n",
    "known to produce good results and experiment with something new is known\n",
    "as the **exploration-exploitation dilemma**.\n",
    "\n",
    "## The exploration-exploitation trade-off\n",
    "\n",
    "Consider the problem of selecting a restaurant to go to during a vacation.Lets say the\n",
    "best restaurant you have found so far was **Les Epinards**. The food there is\n",
    "usually to your taste and satisfactory. However, a well-known recommendations\n",
    "website suggests that **King’s Arm** is really good! It is tempting to try it out. But\n",
    "there is a risk involved. It may turn out to be much worse than **Les Epinards**,\n",
    "in which case you will regret going there. On the other hand, it could also be\n",
    "much better. What should you do?\n",
    "It all depends on how much information you have about either restaurant,\n",
    "and how many more days you’ll stay in town. If this is your last day, then it’s\n",
    "probably a better idea to go to **Les Epinards**, unless you are expecting **King’s\n",
    "Arm** to be significantly better. However, if you are going to stay there longer,\n",
    "trying out **King’s Arm** is a good bet. If you are lucky, you will be getting much\n",
    "better food for the remaining time, while otherwise you will have missed only\n",
    "one good meal out of many, making the potential risk quite small."
   ]
  },
  {
   "cell_type": "markdown",
   "metadata": {},
   "source": [
    "## Overview\n",
    "* To make things concrete, we will first focus on decision making under **no** uncertainity, i.e, given we have a world model, we can calculate the exact and optimal actions to take in it. We shall first introduce **Markov Decision Process (MDP)** as the world model. Then we give one algorithm (out of many) to solve it.\n",
    "\n",
    "\n",
    "* Next, we will work through one type of reinforcement learning algorithm called Q-learning. Q-learning is an algorithm for making decisions under uncertainity, where uncertainity is over the possible world model (here MDP). It will find the optimal policy for the **unknown** MDP, assuming we do infinite exploration."
   ]
  },
  {
   "cell_type": "markdown",
   "metadata": {},
   "source": [
    "## Markov Decision Process"
   ]
  },
  {
   "cell_type": "markdown",
   "metadata": {},
   "source": [
    "Markov Decision Process (MDP) provides a mathematical framework for modeling decision-making. It is a discrete time (distinct points in time) stochastic (randomly determined) process.\n",
    "\n",
    "MDPs are made up of 4 parts:  \n",
    "S: Finite set of states (Ex: s<sub>1</sub>, s<sub>2</sub> ... s<sub>N</sub>)  \n",
    "A: Finite set of actions (Ex: North, South, East, West)  \n",
    "P<sub>a</sub>(s,s'): Probability that action *a* in state *s* at time *t* will lead to state *s'* at time *t + 1*  \n",
    "R<sub>a</sub>(s,s'): Immediate reward received after moving from state *s* to state *s'* by action *a*\n",
    "\n",
    "An agent acts in an MDP at time *t*, by taking certain action *a* in state *s*, going to state *s'*, and getting a reward *r* from the world. It then repeats the process for certain no. of times, either finite or infinite.\n",
    "\n",
    "We also include a $5^{th}$ part in the description of an MDP called Gamma $\\gamma$.  \n",
    "$\\gamma$: The discount factor between 0 (inclusive) and 1 (exclusive). This determines how much credit you want to give to the future. If you think that the future reward is as important as the current reward you would set this to 0.99999. If you don't care about the future rewards you would set this to 0 and you only care about the current reward. For example, if your discount factor is 0.8 and after 5 steps you get a reward of 4 the present value of that reward is $0.8^4 * 5$ or ~2.\n",
    "\n",
    "An MDP is a collection of states such that each state has a selection of actions associated with them. With each state-action pair comes a reward *r* (can be 0). Define a policy function: $\\pi: s \\rightarrow a$, which tells which action to take at each state.\n",
    "  \n",
    "We now use the famous dynamic programming equation, also known as Bellman Equation, to define optimality in an MDP. The following equation defines what we call the **value function** of state *s* following some fixed policy $\\pi$:  \n",
    "\n",
    "$$V^\\pi(s) = \\sum_{s'} P_{\\pi(s)}(s,s') [R_{\\pi(s)}(s,s') + \\gamma V^\\pi(s')]$$\n",
    "\n",
    "We call $V^\\pi$ as the value of policy $\\pi$.  \n",
    "  \n",
    "Now, to find the **optimal** policy you will need to find the action that gives the highest reward.  \n",
    "\n",
    "$$V^*(s) = max_a \\sum_{s'} P_a(s,s') [R_a(s,s') + \\gamma V^*(s')]$$\n",
    "\n",
    "A real world example would be an inventory control system. Your states would be the amount of items you have in stock. Your actions would be the amount to order. The discrete time would be the days of the month. The reward would be the profit.  \n",
    "\n",
    "A major drawback of MDPs is called the \"Curse of Dimensionality\". This states that the more states/actions you have the more computational difficult it is to solve.   \n"
   ]
  },
  {
   "cell_type": "markdown",
   "metadata": {},
   "source": [
    "## Question 1 (2 points)"
   ]
  },
  {
   "cell_type": "markdown",
   "metadata": {},
   "source": [
    "For the first question of the notebook, we give a quick example of an MDP. We would to see if you can put the definitions above into practice.\n",
    "\n",
    "**Question a**: Given the following deterministic MDP (you select North, you move North), what is the optimal policy (path with the most points)?\n",
    "  \n",
    "*Notes*:  \n",
    "  * The number in the box is the reward.  \n",
    "  * Once you hit the end you are done. (Absorbing state)\n",
    "  * S is the starting point.  \n",
    "  * F is the ending point.  \n",
    "  * Use N for North, E for East, S for South, and W for West. Not all actions are available at each state, for example, you can't choose N and W at starting state, as there exists no valid next states in those directions.  \n",
    "  * Pass the directions as a single string. Ex: ESWN will make a circle.  \n",
    "  \n",
    "\n",
    "\n",
    "| | | |\n",
    "|----------|----------|---------|\n",
    "|S|1|1|\n",
    "|1 |0|1|  \n",
    "|-1|-1|0|  \n",
    "|0 |0|F|"
   ]
  },
  {
   "cell_type": "markdown",
   "metadata": {},
   "source": [
    ">**Answer a**: Interestingy the answer is independent of the factor $\\gamma$. The optimal policy is to go back and forth between two states which give a reward of 1 as this yields an infinite score. However, this sequence will never terminate and the game never finish.\n",
    ">\n",
    ">With $\\gamma > 0$ we will start east and get trapped in the following 1s.\n",
    ">E.g. E followed by EWEWEWEWEW..... or a similar pattern of 1s.  \n",
    ">With $\\gamma = 0$ we might start south as we disregard the future rewards, and thus don't care that our next choice will give zero reward instead of 1. However we might also head east as this yields the same immediate reward. What action is taken depends on the implementation.\n",
    ">\n",
    ">Policy for $\\gamma = 0$:\n",
    "> | | | |\n",
    "> |--|--|--|\n",
    "> |E/S|E|S/W|\n",
    "> |N/E|N/E/W|N|\n",
    "> |N|N/E/S|N|\n",
    "> |E|E/W|N/W|\n",
    ">\n",
    ">\n",
    ">Policy for $\\gamma > 0$:\n",
    "> | | | |\n",
    "> |--|--|--|\n",
    "> |E|E|S/W|\n",
    "> |N/E|N/E|N|\n",
    "> |N|N/E|N|\n",
    "> |E|E|N|\n",
    ">\n",
    "> Where '/' symbolizes equality between actions.\n",
    ">\n",
    ">If we are only allowed to visit each box once the answer changes. Then the best policy is SENESS as it visits all boxes with reward 1 and no negative boxes, unless we have a discount factor $\\gamma < 0.75$ where EESSS is the best policy since we get more rewards faster."
   ]
  },
  {
   "cell_type": "markdown",
   "metadata": {},
   "source": [
    "Question b,c will attempt to firm up your knowledge of the parts of an MDP. Just remember that for a state denoted by (x,y), state N/E/S/W to that are (x,y-1),(x+1,y),(x,y+1),(x-1,y) respectively. We take (0,0) as the starting state S.\n",
    "\n",
    "**Question b:** What is the probability of going from state (1,0) to state (2,0) using action E ? ( i.e,  $P_E((1,0),(2,0))$ )\n",
    "\n",
    "**Question c:** What is the reward for moving from state (1,0) to state (2,0) ? ( i.e, $R_E((1,0),(2,0))$ )"
   ]
  },
  {
   "cell_type": "markdown",
   "metadata": {},
   "source": [
    ">**Answer b**: The game is deterministic, so the probability of ending in state (2, 0) by choosing action E in (1, 0) is 1. There is no chance involved.\n",
    ">\n",
    ">**Answer c**: The reward is given by the number in box the box we arrive in. Here it is box (2, 0), so the reward is 1."
   ]
  },
  {
   "cell_type": "markdown",
   "metadata": {},
   "source": [
    "## Value Iteration"
   ]
  },
  {
   "cell_type": "markdown",
   "metadata": {},
   "source": [
    "The value iteration is one algorithm that can be used to find the optimal policy ($\\pi^*$). Note that for any policy $\\pi^*$ to be optimal, it must satisfy the Bellman equation for optimal value function $V^*$. For any candidate $V^*$, it must be such that plugging it in the RHS (right-hand-side) of Bellman equation should give the same $V^*$ again (by the recursive nature of this equation). This property will form the basis of our algorithm. Essentially, due to certain mathematical results, repeated application of RHS to any intial value function $V^0(s)$ will eventually lead to the value $V$ which statifies the Bellman equation. Hence repeated application of Bellman equation for optimal value function will also lead to optimal value function, we can then extract the optimal actions by simply noting the actions that satisfy the equation.    \n",
    "\n",
    "The value function is based on the Bellman Equation for optimal value, which we recall here:  \n",
    "$$V^*(s) = max_a \\sum_{s'} P_a(s,s') [R_a(s,s') + \\gamma V^*(s')]$$"
   ]
  },
  {
   "cell_type": "markdown",
   "metadata": {},
   "source": [
    "Example: Below is a 3x3 grid. We are going to walk through a few iterations to firm up your understanding. Lets assume this time that success of taking any action is 0.8. Meaning if we take E from a valid state (x,y), we will go (x+1,y) 80 percent of time, but remain in same state the remaining time. We will have a discount factor ($\\gamma$) of 0.9. Assume $V^0(s')=0$ for all s'. \n",
    "\n",
    "| | | |  \n",
    "|----------|----------|---------|  \n",
    "|0|0|0|\n",
    "|0|10|0|  \n",
    "|0|0|0|  \n",
    "\n",
    "\n",
    "**Iteration 1**: It is trivial, V(s) becomes the $max_a \\sum_{s'} P_a(s,s') R_a(s,s')$ since $V^0$ was zero for s'.\n",
    "\n",
    "| | | |  \n",
    "|----------|----------|---------|  \n",
    "|0|8|0|\n",
    "|8|2|8|  \n",
    "|0|8|0|  \n",
    "  \n",
    "**Iteration 2**:  \n",
    "  \n",
    "Staring with cell (0,0): We find the expected value of each move:  \n",
    "Action N: 0  \n",
    "Action E: 0.8( 0 + 0.9 \\* 8) + 0.2(0 + 0.9 \\* 0) = 5.76  \n",
    "Action S: 0.8( 0 + 0.9 \\* 8) + 0.2(0 + 0.9 \\* 0) = 5.76  \n",
    "Action W: 0\n",
    "\n",
    "Hence any action between E and S would have been best at this stage.\n",
    "\n",
    "Similarly for cell (1,0):\n",
    "\n",
    "Action S: 0.8( 10 + 0.9 \\* 2) + 0.2(0 + 0.9 \\* 8) = 10.88 (Action S is the maximizing action)  \n",
    "\n",
    "Similar calculations for remaining cells give us:\n",
    "\n",
    "| | | |  \n",
    "|----------|----------|---------|  \n",
    "|5.76|10.88|5.76|\n",
    "|10.88|8.12|10.88|  \n",
    "|5.76|10.88|5.76|  \n"
   ]
  },
  {
   "cell_type": "markdown",
   "metadata": {},
   "source": [
    "## Question 2 (4 points)\n",
    "Please code the value iteration algorithm just described here, and show the optimal value function of the above 3x3 grid problem at convergence."
   ]
  },
  {
   "cell_type": "markdown",
   "metadata": {},
   "source": [
    ">**Answer**:"
   ]
  },
  {
   "cell_type": "code",
   "execution_count": 3,
   "metadata": {},
   "outputs": [
    {
     "name": "stdout",
     "output_type": "stream",
     "text": [
      "Optimal value function:\n",
      "[[45.58472762 51.9198559  45.58472762]\n",
      " [51.9198559  48.02375201 51.9198559 ]\n",
      " [45.58472762 51.9198559  45.58472762]]\n",
      "Optimal policy function:\n",
      "[['E/S' 'S' 'S/W']\n",
      " ['E' 'N/E/S/W' 'W']\n",
      " ['N/E' 'N' 'N/W']]\n",
      "Number of iterations: 71\n"
     ]
    }
   ],
   "source": [
    "import numpy as np\n",
    "\n",
    "rewards = np.array([[0, 0, 0], [0, 10, 0], [0, 0, 0]])\n",
    "success_rate = 0.8\n",
    "discount_factor = 0.9 #gamma\n",
    "tol = 1e-4 #Threshold to stop iterating. Stops when changes are less than this measured in 2-norm^2\n",
    "\n",
    "\n",
    "value_function =  np.zeros_like(rewards, dtype=float)\n",
    "prev_values = np.ones_like(value_function) #just something more than tol different from value_function so the loop will run atleast once\n",
    "optimal_action = np.zeros_like(value_function, dtype=object)\n",
    "\n",
    "\n",
    "sizeX = len(value_function[0])\n",
    "sizeY = len(value_function)\n",
    "\n",
    "actions = {'N' : {'x' : 0, 'y' : -1}, 'E' : {'x' : 1, 'y' : 0}, 'S' : {'x' : 0, 'y' : 1}, 'W' : {'x' : -1, 'y' : 0}}\n",
    "\n",
    "counter = 0\n",
    "while np.sum(np.square(value_function - prev_values)) > tol:\n",
    "    counter += 1\n",
    "    prev_values = np.copy(value_function)\n",
    "    for y in range(sizeY):\n",
    "        for x in range(sizeX):\n",
    "            max_value = -1\n",
    "            best_action = ''            \n",
    "            for dir in actions:\n",
    "                if x + actions[dir]['x'] >= sizeX or x + actions[dir]['x'] < 0:\n",
    "                    continue #action out of bounds\n",
    "                if y + actions[dir]['y'] >= sizeY or y + actions[dir]['y'] < 0:\n",
    "                    continue #action out of bounds\n",
    "                \n",
    "                #continously updating value_function so need to get values from prev_values\n",
    "                value = success_rate*(rewards[y + actions[dir]['y'], x + actions[dir]['x']] + discount_factor*prev_values[y + actions[dir]['y'], x + actions[dir]['x']]) + (1 - success_rate)*(rewards[y, x] + discount_factor*prev_values[y, x])\n",
    "                # print(\"Pos:\",i,j,\"Action:\", dir, \"Value:\", value)\n",
    "\n",
    "                if  value > max_value:\n",
    "                    max_value = value\n",
    "                    best_action = dir\n",
    "                elif value == max_value:\n",
    "                    best_action += '/' + dir\n",
    "\n",
    "            value_function[y, x] = max_value\n",
    "            optimal_action[y, x] = best_action            \n",
    "\n",
    "print(\"Optimal value function:\")\n",
    "print(value_function)\n",
    "print(\"Optimal policy function:\")\n",
    "print(optimal_action)\n",
    "print(\"Number of iterations:\", counter)\n"
   ]
  },
  {
   "cell_type": "markdown",
   "metadata": {},
   "source": [
    "> The optimal value function which maps states (postions) to values is on the form\n",
    "> | | | |\n",
    "> |---|---|---|\n",
    "> |45.6|51.9|45.6|\n",
    "> |51.9|48.0|51.9|\n",
    "> |45.6|51.9|45.6|\n",
    ">\n",
    ">\n",
    "> Thus the optimal policy function which maps states (positions) to actions is on the form\n",
    "> | | | |\n",
    "> |---|---|---|\n",
    "> |E/S|S|S/W|\n",
    "> |E|N/E/S/W|W|\n",
    "> |N/E|N|N/W|\n",
    ">\n",
    "> Where '/' symbolizes equality between actions."
   ]
  },
  {
   "cell_type": "markdown",
   "metadata": {},
   "source": [
    "## Reinforcement Learning (RL)\n",
    "Until now, we understood that knowing the MDP, specifically $P_a(s,s')$ and $R_a(s,s')$ allows us to efficiently find the optimal policy using value iteration algorithm, but RL or decision making under uncertainity arises from the question of making optimal decisions without knowing the true world model (MDP in this case).\n",
    "\n",
    "So far we have defined the value of a state $V^\\pi$, let us define the value of an action, $Q^\\pi$:\n",
    "\n",
    "$$Q^\\pi(s,a) = \\sum_{s'} P_a(s,s') [R_a(s,s') + \\gamma V^\\pi(s')]$$\n",
    "\n",
    "i.e, the value of taking action *a* from state *s* and then following $\\pi$ onwards. Similarly, the optimal Q-value equation is:\n",
    "\n",
    "$$Q^*(s,a) = \\sum_{s'} P_a(s,s') [R_a(s,s') + \\gamma V^*(s')]$$\n",
    "\n",
    "## Q-learning\n",
    "\n",
    "Q-learning algorithm can be used by an agent unaware of its surroundings (unknown MDP). All it can do is take an action *a* at time *t* from state *s* and observe the reward *r* and next state *s'*, and repeat this process again. So how it can learn to act optimally under such uninformative conditions ? Answer is using Q-learning. Without going into its justification, we simply state the main-update rule of this algorithm below:\n",
    "\n",
    "![alt text](https://chalmersuniversity.box.com/shared/static/5anbos4s9luoayb32jk6w3wy3w4jk3g3.png)\n",
    "\n",
    "Where we simply maintain Q(s,a) value for each state-action pair in a table. It is proven to converge to the optimal policy of the underlying unknown MDP for certain values of learning rate $\\alpha$. For our case, we set a constant $\\alpha=0.1$.\n",
    "\n",
    "## OpenAI Gym\n",
    "\n",
    "We shall use already available simulators for different environments (world) using the popular OpenAI Gym library. It just implements [differnt types of simulators](https://gym.openai.com/) including ATARI games. Although here we will only focus on simple ones, such as [Chain enviroment](https://gym.openai.com/envs/NChain-v0/).\n",
    "\n",
    "![alt text](https://chalmersuniversity.box.com/shared/static/6tthbzhpofq9gzlowhr3w8if0xvyxb2b.jpg)\n",
    "\n",
    "## Question 3 (1 point)\n",
    "Basically, there are 5 states, and two actions 'a' and 'b'. Each transition (s,a,s') is noted with its corresponding reward. You are to first familiarize with the framework using its [documentation](http://gym.openai.com/docs/), and then implement the Q-learning algorithm for the Chain enviroment (called 'NChain-v0') using default parameters. Finally print the $Q^*$ table at convergence. Take $\\gamma=0.95$. You can refer to the Q-learning Jupyter notebook shown in class, uploaded on Canvas.\n"
   ]
  },
  {
   "cell_type": "markdown",
   "metadata": {},
   "source": [
    ">**Answer:**"
   ]
  },
  {
   "cell_type": "code",
   "execution_count": 70,
   "metadata": {},
   "outputs": [
    {
     "data": {
      "image/png": "[encoded data removed]",
      "text/plain": [
       "<Figure size 432x288 with 1 Axes>"
      ]
     },
     "metadata": {
      "needs_background": "light"
     },
     "output_type": "display_data"
    },
    {
     "data": {
      "text/plain": [
       "array([[55.01127554, 53.60247797],\n",
       "       [58.1299195 , 54.86465834],\n",
       "       [66.25433246, 58.18234438],\n",
       "       [72.92469948, 60.83355567],\n",
       "       [85.7497012 , 55.7919033 ]])"
      ]
     },
     "execution_count": 70,
     "metadata": {},
     "output_type": "execute_result"
    }
   ],
   "source": [
    "import gym\n",
    "import gym_toytext #resolve legacy issues with NChain-v0\n",
    "import random\n",
    "import matplotlib.pyplot as plt\n",
    "\n",
    "\n",
    "gamma = 0.95\n",
    "learning_rate = 0.1\n",
    "\n",
    "epsilon = 0.1 #how often we explore\n",
    "\n",
    "num_episodes = 1500 #how many iterations of the game is to be played. 1 game = 1000 choices\n",
    "\n",
    "env = gym.make('NChain-v0')\n",
    "\n",
    "num_actions = env.action_space.n #two possible actions. 0 or 1 / a or b / forward or back to start\n",
    "num_states = env.observation_space.n #5 possible states\n",
    "\n",
    "Q = np.zeros([num_states, num_actions]) #Q table\n",
    "prevQ = np.ones_like(Q)\n",
    "\n",
    "line = []\n",
    "\n",
    "##Code below is from lecture\n",
    "for i in range(num_episodes):\n",
    "\tstate = env.reset()\n",
    "\tdone = False\n",
    "\tprevQ = np.copy(Q)\n",
    "\n",
    "\twhile done == False:\n",
    "        # First we select an action:\n",
    "\t\tif random.uniform(0, 1) < epsilon: # Flip a skewed coin\n",
    "\t\t\taction = env.action_space.sample() # Explore action space\n",
    "\t\telse:\n",
    "\t\t\taction = np.argmax(Q[state,:]) # Exploit learned values\n",
    "        # Then we perform the action and receive the feedback from the environment\n",
    "\t\tnew_state, reward, done, info = env.step(action)\n",
    "        # Finally we learn from the experience by updating the Q-value of the selected action\n",
    "\t\tprediction_error = reward + gamma*np.max(Q[new_state,:]) - Q[state, action]\n",
    "\t\tQ[state, action] += learning_rate*prediction_error \n",
    "\t\tstate = new_state\n",
    "\n",
    "\tline.append(Q[3, 0])\n",
    "\n",
    "plt.plot(list(range(num_episodes)), line)\n",
    "plt.xlabel(\"# of iterations\")\n",
    "plt.ylabel(\"Value\")\n",
    "plt.title(\"Q-Value of action 0 in state 3\")\n",
    "plt.show()\n",
    "\n",
    "\n",
    "env.close()\n",
    "Q\n"
   ]
  },
  {
   "cell_type": "markdown",
   "metadata": {},
   "source": [
    ">Can see from the output that moving forward is always the recommended action, and increasingly so as we move along the chain.\n",
    ">When letting the algorithm run until convergence, it runs forever. The Q-table has quite big variance from iteration to iteration, but as can be seen from the plot for action 0 in state 3 it quickly stabilizes around the same value. This is also the case for the other state-action pairs."
   ]
  },
  {
   "cell_type": "markdown",
   "metadata": {},
   "source": [
    "\n",
    "## Question 4 (2 points)\n",
    "\n",
    "a. Verify that the optimal $Q^*$ value obtained using Q-learning is same as the optimal value function $V^*$ for the corresponding MDP's optimal action. You would have to first define the MDP corresponding to Chain enviroment.\n",
    "\n",
    "b. What is the importance of exploration in RL ? Explain with an example.\n"
   ]
  },
  {
   "cell_type": "markdown",
   "metadata": {},
   "source": [
    ">**Answer a:**\n",
    ">Were not able to find the default values of NChain-v0 as it has been removed from Gym and its sourcecode it also been removed from the gym repo on github. Assuming $\\gamma = 0.95$, the probabilities are $P_{\\text{Forward}}(n, n+1) = 95 \\% $, $P_{\\text{back to start}}(n, 0) = 95 \\% $, $P_{\\text{Forward}}(n, 0) = 5 \\% $ and $P_{\\text{back to start}}(n, n+1) = 5 \\%$. Given rewards as per the drawing this gives a $V^*(s)$ as can be seen at the ouput of following script:\n"
   ]
  },
  {
   "cell_type": "code",
   "execution_count": 13,
   "metadata": {},
   "outputs": [
    {
     "name": "stdout",
     "output_type": "stream",
     "text": [
      "Optimal value function:\n",
      "[[51.74207028 48.73249232]\n",
      " [57.67982084 49.04500551]\n",
      " [64.62455834 49.41051801]\n",
      " [72.74705834 49.83801801]\n",
      " [82.24705834 50.33801801]]\n",
      "Number of iterations: 76\n"
     ]
    }
   ],
   "source": [
    "import numpy as np\n",
    "\n",
    "rewards = np.array([[0, 2], [0, 2], [0, 2], [0, 2], [10, 2]])\n",
    "success_rate = 0.95\n",
    "discount_factor = 0.9\n",
    "tol = 1e-4 #Threshold to stop iterating. Stops when changes are less than this measured in 2-norm^2\n",
    "\n",
    "\n",
    "value_function =  np.zeros_like(rewards, dtype=float)\n",
    "prev_values = np.ones_like(value_function) #just something more than tol different from value_function so the loop will run atleast once\n",
    "\n",
    "sizeX = len(value_function[0])\n",
    "sizeY = len(value_function)\n",
    "\n",
    "\n",
    "counter = 0\n",
    "while np.sum(np.square(value_function - prev_values)) > tol:\n",
    "    counter += 1\n",
    "    prev_values = np.copy(value_function)\n",
    "    for state in range(sizeY):\n",
    "        moving_on_reward = rewards[state, 0] + discount_factor*max(prev_values[min(4, state + 1)])  \n",
    "        back_to_start_reward = rewards[state, 1] + discount_factor*max(prev_values[0])       \n",
    "        #action 0/forward\n",
    "        value_function[state, 0] = success_rate*moving_on_reward + (1 - success_rate)*back_to_start_reward    \n",
    "        #action 1/back to start\n",
    "        value_function[state, 1] = success_rate*back_to_start_reward + (1 - success_rate)*moving_on_reward\n",
    "        \n",
    "           \n",
    "\n",
    "print(\"Optimal value function:\")\n",
    "print(value_function)\n",
    "print(\"Number of iterations:\", counter)\n"
   ]
  },
  {
   "cell_type": "markdown",
   "metadata": {},
   "source": [
    ">Can see that the Q-table and the $V^*$-table are similar."
   ]
  },
  {
   "cell_type": "markdown",
   "metadata": {},
   "source": [
    "\n",
    ">**Answer b:**\n",
    ">If never explore potentially huge rewards might go undiscovered. Take the NChain environment, if we only know about the reward of going back to start, we will always choose this as there are no known rewards of moving along the chain. However, as we know the optimal strategy is to explore and find the big reward at the end of the chain. This has parallels to life. Maybe it is worth it to explore and deviate from ones habits from time to time to gain higher rewards in life. For example exploring new job opportunities in a new city to gain a higher salary and standard of living. Or you might dislike the new city and realised that your life satifaction was better in your previous city. You will never know unless you start exploring new opportunities, however too much exploring might also reduce the standard of living / rewards in life."
   ]
  },
  {
   "cell_type": "markdown",
   "metadata": {},
   "source": [
    "## Question 5 (1 point)\n",
    "\n",
    "Briefly discuss the k-armed bandit problem formulation and it's distinguishing feature as a special case of the reinforcement learning problem formulation."
   ]
  },
  {
   "cell_type": "markdown",
   "metadata": {},
   "source": [
    ">**Answer:**\n",
    ">The K-armed bandit problem is an exploration/explotation problem just like the NChain. Imagine K armed bandit slot machines in a casino, each with an unknown machine-specific probability distribution for determining the reward of playing on the machine. The problem is how to maximize the reward from playing N times on the machines. By exploring a player can get an idea of which machines have the most favorable distributions and exploit this information in the remaining plays. It is an MDP with just one state and K actions and unknown rewards. Regardless of what action we take, we still are in the same state and all actions are available. This is a special feature of the K-armed bandit problem. The main challenge is to find the balance between exploring and exploiting."
   ]
  },
  {
   "cell_type": "markdown",
   "metadata": {},
   "source": [
    "## Note\n",
    "\n",
    "* Until now, we have described algorithms for when no. of states and actions are finite. In coming weeks, you will be taught how to extend these methods to continous state enviroments like ATARI games.\n",
    "\n",
    "# References\n",
    "Primer/text based on the following references:\n",
    "* http://www.cse.chalmers.se/~chrdimi/downloads/book.pdf\n",
    "* https://github.com/olethrosdc/ml-society-science/blob/master/notes.pdf"
   ]
  }
 ],
 "metadata": {
  "kernelspec": {
   "display_name": "Python 3",
   "language": "python",
   "name": "python3"
  },
  "language_info": {
   "codemirror_mode": {
    "name": "ipython",
    "version": 3
   },
   "file_extension": ".py",
   "mimetype": "text/x-python",
   "name": "python",
   "nbconvert_exporter": "python",
   "pygments_lexer": "ipython3",
   "version": "3.8.10"
  }
 },
 "nbformat": 4,
 "nbformat_minor": 2
}
