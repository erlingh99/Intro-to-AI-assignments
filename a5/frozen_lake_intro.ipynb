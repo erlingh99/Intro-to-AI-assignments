{
 "cells": [
  {
   "cell_type": "markdown",
   "metadata": {},
   "source": [
    "# Q-learning with FrozenLake"
   ]
  },
  {
   "cell_type": "markdown",
   "metadata": {},
   "source": [
    "Based on https://github.com/ioarun/openai-gym/blob/master/frozenlake/frozenlake-qlearning.py \n",
    "\n",
    "Environment: https://gym.openai.com/ \n",
    "\n",
    "Details: https://www.kaggle.com/sandovaledwin/q-learning-algorithm-for-solving-frozenlake-game/code"
   ]
  },
  {
   "cell_type": "code",
   "execution_count": 1,
   "metadata": {},
   "outputs": [],
   "source": [
    "#Note. You need to install gym! Sometimes difficult on Windows. Google for advise.\n",
    "import gym\n",
    "import numpy as np\n",
    "import random\n",
    "import math"
   ]
  },
  {
   "cell_type": "markdown",
   "metadata": {},
   "source": [
    "## Problem description"
   ]
  },
  {
   "cell_type": "code",
   "execution_count": 2,
   "metadata": {},
   "outputs": [
    {
     "data": {
      "text/plain": [
       "'\\nThe agent controls the movement of a character in a grid world. Some tiles of the grid are walkable, and others lead to the agent falling into the water. Additionally, the movement direction of the agent is uncertain and only partially depends on the chosen direction. The agent is rewarded for finding a walkable path to a goal tile.\\n\\nA frozenlake-v0 is a 4x4 grid world that looks as follows:\\nSFFF       \\nFHFH       \\nFFFH       \\nHFFG       \\n\\nMeaning of the letters:\\nS: starting point, safe\\nF: frozen surface, safe\\nH: hole, fall to your doom\\nG: goal, where the frisbee is located\\n\\nThe 16 states (position of the agent): \\nState 0: upper left corner (Start)\\n...\\nState 15: Lower right corner (Goal)\\n\\nThe 4 actions (moves of the agent):\\nLEFT = 0,\\nDOWN = 1,\\nRIGHT = 2,\\nUP = 3.\\n\\nReward:\\nThe episode ends when you reach the goal or fall into the water. \\nYou receive a reward of 1 if you reach the goal, and 0 otherwise.\\n\\nEffect of actions:\\n        def inc(row, col, a):\\n            if a == LEFT:\\n                col = max(col-1,0)\\n            elif a == DOWN:\\n                row = min(row+1,nrow-1)\\n            elif a == RIGHT:\\n                col = min(col+1,ncol-1)\\n            elif a == UP:\\n                row = max(row-1,0)\\n            return (row, col)\\n'"
      ]
     },
     "execution_count": 2,
     "metadata": {},
     "output_type": "execute_result"
    }
   ],
   "source": [
    "'''\n",
    "The agent controls the movement of a character in a grid world. Some tiles of the grid are walkable, and others lead to the agent falling into the water. Additionally, the movement direction of the agent is uncertain and only partially depends on the chosen direction. The agent is rewarded for finding a walkable path to a goal tile.\n",
    "\n",
    "A frozenlake-v0 is a 4x4 grid world that looks as follows:\n",
    "SFFF       \n",
    "FHFH       \n",
    "FFFH       \n",
    "HFFG       \n",
    "\n",
    "Meaning of the letters:\n",
    "S: starting point, safe\n",
    "F: frozen surface, safe\n",
    "H: hole, fall to your doom\n",
    "G: goal, where the frisbee is located\n",
    "\n",
    "The 16 states (position of the agent): \n",
    "State 0: upper left corner (Start)\n",
    "...\n",
    "State 15: Lower right corner (Goal)\n",
    "\n",
    "The 4 actions (moves of the agent):\n",
    "LEFT = 0,\n",
    "DOWN = 1,\n",
    "RIGHT = 2,\n",
    "UP = 3.\n",
    "\n",
    "Reward:\n",
    "The episode ends when you reach the goal or fall into the water. \n",
    "You receive a reward of 1 if you reach the goal, and 0 otherwise.\n",
    "\n",
    "Effect of actions:\n",
    "        def inc(row, col, a):\n",
    "            if a == LEFT:\n",
    "                col = max(col-1,0)\n",
    "            elif a == DOWN:\n",
    "                row = min(row+1,nrow-1)\n",
    "            elif a == RIGHT:\n",
    "                col = min(col+1,ncol-1)\n",
    "            elif a == UP:\n",
    "                row = max(row-1,0)\n",
    "            return (row, col)\n",
    "'''"
   ]
  },
  {
   "cell_type": "markdown",
   "metadata": {},
   "source": [
    "## Define environment"
   ]
  },
  {
   "cell_type": "code",
   "execution_count": 3,
   "metadata": {},
   "outputs": [],
   "source": [
    "env = gym.make(\"FrozenLake-v0\",is_slippery=True)"
   ]
  },
  {
   "cell_type": "code",
   "execution_count": 4,
   "metadata": {},
   "outputs": [
    {
     "name": "stdout",
     "output_type": "stream",
     "text": [
      "\n",
      "\u001b[41mS\u001b[0mFFF\n",
      "FHFH\n",
      "FFFH\n",
      "HFFG\n"
     ]
    }
   ],
   "source": [
    "env.render()"
   ]
  },
  {
   "cell_type": "markdown",
   "metadata": {},
   "source": [
    "## Actions"
   ]
  },
  {
   "cell_type": "code",
   "execution_count": 5,
   "metadata": {},
   "outputs": [
    {
     "data": {
      "text/plain": [
       "1"
      ]
     },
     "execution_count": 5,
     "metadata": {},
     "output_type": "execute_result"
    }
   ],
   "source": [
    "#Sample actions for exploration:\n",
    "env.action_space.sample()"
   ]
  },
  {
   "cell_type": "markdown",
   "metadata": {},
   "source": [
    "## Initialization"
   ]
  },
  {
   "cell_type": "code",
   "execution_count": 6,
   "metadata": {},
   "outputs": [
    {
     "data": {
      "text/plain": [
       "array([[0., 0., 0., 0.],\n",
       "       [0., 0., 0., 0.],\n",
       "       [0., 0., 0., 0.],\n",
       "       [0., 0., 0., 0.],\n",
       "       [0., 0., 0., 0.],\n",
       "       [0., 0., 0., 0.],\n",
       "       [0., 0., 0., 0.],\n",
       "       [0., 0., 0., 0.],\n",
       "       [0., 0., 0., 0.],\n",
       "       [0., 0., 0., 0.],\n",
       "       [0., 0., 0., 0.],\n",
       "       [0., 0., 0., 0.],\n",
       "       [0., 0., 0., 0.],\n",
       "       [0., 0., 0., 0.],\n",
       "       [0., 0., 0., 0.],\n",
       "       [0., 0., 0., 0.]])"
      ]
     },
     "execution_count": 6,
     "metadata": {},
     "output_type": "execute_result"
    }
   ],
   "source": [
    "num_episodes = 15000 #20000 #60000\n",
    "gamma = 0.95 #0.99\n",
    "learning_rate = 0.7 #0.95 #0.85\n",
    "epsilon = 0.5#1 #0.15 #0.1\n",
    "\n",
    "# initialize the Q table\n",
    "Q = np.zeros([16, 4])\n",
    "Q"
   ]
  },
  {
   "cell_type": "markdown",
   "metadata": {},
   "source": [
    "## Training the Q-table"
   ]
  },
  {
   "cell_type": "code",
   "execution_count": 7,
   "metadata": {},
   "outputs": [],
   "source": [
    "for _ in range(num_episodes):\n",
    "\tstate = env.reset()\n",
    "\tdone = False\n",
    "\twhile done == False:\n",
    "        # First we select an action:\n",
    "\t\tif random.uniform(0, 1) < epsilon: # Flip a skewed coin\n",
    "\t\t\taction = env.action_space.sample() # Explore action space\n",
    "\t\telse:\n",
    "\t\t\taction = np.argmax(Q[state,:]) # Exploit learned values\n",
    "        # Then we perform the action and receive the feedback from the environment\n",
    "\t\tnew_state, reward, done, info = env.step(action)\n",
    "        # Finally we learn from the experience by updating the Q-value of the selected action\n",
    "\t\tprediction_error = reward + (gamma*np.max(Q[new_state,:])) - Q[state, action]\n",
    "\t\tQ[state,action] += learning_rate*prediction_error \n",
    "\t\tstate = new_state"
   ]
  },
  {
   "cell_type": "code",
   "execution_count": 8,
   "metadata": {},
   "outputs": [
    {
     "data": {
      "text/plain": [
       "array([[0.3006948 , 0.306289  , 0.31098251, 0.3302058 ],\n",
       "       [0.06721079, 0.28993454, 0.34001422, 0.35746834],\n",
       "       [0.42631973, 0.58188242, 0.52198415, 0.24271634],\n",
       "       [0.05580251, 0.08992724, 0.01621393, 0.43355969],\n",
       "       [0.3056748 , 0.22519863, 0.26249856, 0.02679725],\n",
       "       [0.        , 0.        , 0.        , 0.        ],\n",
       "       [0.47320963, 0.20285654, 0.4067139 , 0.02143988],\n",
       "       [0.        , 0.        , 0.        , 0.        ],\n",
       "       [0.07291807, 0.17351833, 0.04047775, 0.27911486],\n",
       "       [0.18995714, 0.46525437, 0.01376863, 0.12522372],\n",
       "       [0.85929749, 0.65902992, 0.53352088, 0.04532213],\n",
       "       [0.        , 0.        , 0.        , 0.        ],\n",
       "       [0.        , 0.        , 0.        , 0.        ],\n",
       "       [0.56338519, 0.68300419, 0.78534725, 0.07234178],\n",
       "       [0.59270183, 0.78148364, 0.96022994, 0.64483936],\n",
       "       [0.        , 0.        , 0.        , 0.        ]])"
      ]
     },
     "execution_count": 8,
     "metadata": {},
     "output_type": "execute_result"
    }
   ],
   "source": [
    "Q"
   ]
  },
  {
   "cell_type": "markdown",
   "metadata": {},
   "source": [
    "## Sanity check"
   ]
  },
  {
   "cell_type": "code",
   "execution_count": 9,
   "metadata": {},
   "outputs": [
    {
     "data": {
      "text/plain": [
       "'\\nLet us sanity check some of the Q-values. \\nFirst we recall what the environment looks like:\\nSFFF       \\nFHFH       \\nFFFH       \\nHFFG       \\n\\nAnd what the 4 actions are:\\nLEFT = 0\\nDOWN = 1\\nRIGHT = 2\\nUP = 3\\n'"
      ]
     },
     "execution_count": 9,
     "metadata": {},
     "output_type": "execute_result"
    }
   ],
   "source": [
    "'''\n",
    "Let us sanity check some of the Q-values. \n",
    "First we recall what the environment looks like:\n",
    "SFFF       \n",
    "FHFH       \n",
    "FFFH       \n",
    "HFFG       \n",
    "\n",
    "And what the 4 actions are:\n",
    "LEFT = 0\n",
    "DOWN = 1\n",
    "RIGHT = 2\n",
    "UP = 3\n",
    "'''"
   ]
  },
  {
   "cell_type": "code",
   "execution_count": 10,
   "metadata": {},
   "outputs": [
    {
     "data": {
      "text/plain": [
       "3"
      ]
     },
     "execution_count": 10,
     "metadata": {},
     "output_type": "execute_result"
    }
   ],
   "source": [
    "np.argmax(Q[0])\n",
    "#Should be 1 or 2"
   ]
  },
  {
   "cell_type": "code",
   "execution_count": 11,
   "metadata": {},
   "outputs": [
    {
     "data": {
      "text/plain": [
       "3"
      ]
     },
     "execution_count": 11,
     "metadata": {},
     "output_type": "execute_result"
    }
   ],
   "source": [
    "np.argmax(Q[3])\n",
    "#Should be 0"
   ]
  },
  {
   "cell_type": "code",
   "execution_count": 12,
   "metadata": {},
   "outputs": [
    {
     "data": {
      "text/plain": [
       "0"
      ]
     },
     "execution_count": 12,
     "metadata": {},
     "output_type": "execute_result"
    }
   ],
   "source": [
    "np.argmax(Q[10])\n",
    "#Should be 1"
   ]
  },
  {
   "cell_type": "code",
   "execution_count": 13,
   "metadata": {},
   "outputs": [
    {
     "data": {
      "text/plain": [
       "2"
      ]
     },
     "execution_count": 13,
     "metadata": {},
     "output_type": "execute_result"
    }
   ],
   "source": [
    "np.argmax(Q[14])\n",
    "#Should be 2"
   ]
  },
  {
   "cell_type": "markdown",
   "metadata": {},
   "source": [
    "## Using the Q-table"
   ]
  },
  {
   "cell_type": "code",
   "execution_count": 14,
   "metadata": {},
   "outputs": [
    {
     "name": "stdout",
     "output_type": "stream",
     "text": [
      "\n",
      "\u001b[41mS\u001b[0mFFF\n",
      "FHFH\n",
      "FFFH\n",
      "HFFG\n",
      "  (Up)\n",
      "S\u001b[41mF\u001b[0mFF\n",
      "FHFH\n",
      "FFFH\n",
      "HFFG\n",
      "  (Up)\n",
      "SF\u001b[41mF\u001b[0mF\n",
      "FHFH\n",
      "FFFH\n",
      "HFFG\n",
      "  (Down)\n",
      "SFF\u001b[41mF\u001b[0m\n",
      "FHFH\n",
      "FFFH\n",
      "HFFG\n",
      "  (Up)\n",
      "SF\u001b[41mF\u001b[0mF\n",
      "FHFH\n",
      "FFFH\n",
      "HFFG\n",
      "  (Down)\n",
      "SFFF\n",
      "FH\u001b[41mF\u001b[0mH\n",
      "FFFH\n",
      "HFFG\n",
      "  (Left)\n",
      "SF\u001b[41mF\u001b[0mF\n",
      "FHFH\n",
      "FFFH\n",
      "HFFG\n",
      "  (Down)\n",
      "SFF\u001b[41mF\u001b[0m\n",
      "FHFH\n",
      "FFFH\n",
      "HFFG\n",
      "  (Up)\n",
      "SFF\u001b[41mF\u001b[0m\n",
      "FHFH\n",
      "FFFH\n",
      "HFFG\n",
      "  (Up)\n",
      "SFF\u001b[41mF\u001b[0m\n",
      "FHFH\n",
      "FFFH\n",
      "HFFG\n"
     ]
    }
   ],
   "source": [
    "# Is our Q good enough to guide us from start to goal without falling into the water?\n",
    "state = env.reset()\n",
    "\n",
    "for step in range(10):\n",
    "    env.render()\n",
    "    # Take the action (index) with the maximum expected discounted future reward given that state\n",
    "    action = np.argmax(Q[state,:])\n",
    "    state, reward, done, info = env.step(action)"
   ]
  },
  {
   "cell_type": "code",
   "execution_count": null,
   "metadata": {},
   "outputs": [],
   "source": []
  }
 ],
 "metadata": {
  "kernelspec": {
   "display_name": "Python 3",
   "language": "python",
   "name": "python3"
  },
  "language_info": {
   "codemirror_mode": {
    "name": "ipython",
    "version": 3
   },
   "file_extension": ".py",
   "mimetype": "text/x-python",
   "name": "python",
   "nbconvert_exporter": "python",
   "pygments_lexer": "ipython3",
   "version": "3.8.5"
  }
 },
 "nbformat": 4,
 "nbformat_minor": 4
}
